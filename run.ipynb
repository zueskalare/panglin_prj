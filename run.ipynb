{
 "cells": [
  {
   "attachments": {},
   "cell_type": "markdown",
   "metadata": {},
   "source": [
    "# 计算 2023/4/24\n",
    "## data 2323/4/23\n",
    "![实验calibration failed](experiments/2023-4-23/record/1090101682248169_.pic_hd.jpg)"
   ]
  },
  {
   "cell_type": "code",
   "execution_count": 1,
   "metadata": {},
   "outputs": [
    {
     "name": "stdout",
     "output_type": "stream",
     "text": [
      "1.2.0\n",
      "3.1.4\n",
      "experiments/2023-4-23/data/C9.csv\n",
      "\n",
      "C9.csv\n",
      "The maximum precentage difference between forward (S11/S21) and reverse (S22/S12) calculated permittivity is: \n",
      "ε′: 28838.72% ε′′: 325899.26% tanδ: 337711.06% \n",
      "The median precentage difference between forward (S11/S21) and reverse (S22/S12) calculated permittivity is: \n",
      "ε′: 102.16% ε′′: 78.70% tanδ: -46.13% \n",
      "\n"
     ]
    },
    {
     "ename": "ValueError",
     "evalue": "negative dimensions are not allowed",
     "output_type": "error",
     "traceback": [
      "\u001b[0;31m---------------------------------------------------------------------------\u001b[0m",
      "\u001b[0;31mValueError\u001b[0m                                Traceback (most recent call last)",
      "Cell \u001b[0;32mIn[1], line 27\u001b[0m\n\u001b[1;32m     25\u001b[0m _l \u001b[39m=\u001b[39m \u001b[39m2.1\u001b[39m\n\u001b[1;32m     26\u001b[0m _airline \u001b[39m=\u001b[39m \u001b[39m'\u001b[39m\u001b[39mVAL\u001b[39m\u001b[39m'\u001b[39m\n\u001b[0;32m---> 27\u001b[0m airline \u001b[39m=\u001b[39m agent\u001b[39m.\u001b[39;49mget_airline(data,in_file,L\u001b[39m=\u001b[39;49m_l,airline\u001b[39m=\u001b[39;49m_airline,density\u001b[39m=\u001b[39;49m\u001b[39m2.1\u001b[39;49m,)\n\u001b[1;32m     28\u001b[0m \u001b[39m# _out_dir = f'{output_dir}/{file[:-4]}'\u001b[39;00m\n\u001b[1;32m     29\u001b[0m \u001b[39m# os.system('mkdir -p '+output_dir+'/'+file[:-4])\u001b[39;00m\n\u001b[1;32m     30\u001b[0m \u001b[39m# x_ = net.f/1e9\u001b[39;00m\n\u001b[1;32m     31\u001b[0m \u001b[39m# fig = agent.draw_common(y=[net.s_db[:,0,0],net.s_db[:,0,1],net.s_db[:,1,0],net.s_db[:,1,1]],x=[x_,x_,x_,x_],name_list=['S11','S12','S21','S22'],x_title='Frequency(GHz)',y_title='S11(db)')\u001b[39;00m\n\u001b[1;32m     32\u001b[0m \u001b[39m# fig.write_image(f'{_out_dir}/S.png')\u001b[39;00m\n",
      "File \u001b[0;32m/Volumes/tianjie 1/code/research/panglin_prj/src/agent.py:14\u001b[0m, in \u001b[0;36mget_airline\u001b[0;34m(data_array, in_file, L, airline, density)\u001b[0m\n\u001b[1;32m     13\u001b[0m \u001b[39mdef\u001b[39;00m \u001b[39mget_airline\u001b[39m(data_array, in_file,L\u001b[39m=\u001b[39m\u001b[39m2\u001b[39m,airline\u001b[39m=\u001b[39m\u001b[39m'\u001b[39m\u001b[39mVAL\u001b[39m\u001b[39m'\u001b[39m,density\u001b[39m=\u001b[39m\u001b[39m2.1\u001b[39m):\n\u001b[0;32m---> 14\u001b[0m     s \u001b[39m=\u001b[39m pc\u001b[39m.\u001b[39;49mAirlineData(L,airline,dataArray\u001b[39m=\u001b[39;49mdata_array,file\u001b[39m=\u001b[39;49min_file,name\u001b[39m=\u001b[39;49msplit(in_file)[\u001b[39m1\u001b[39;49m],date\u001b[39m=\u001b[39;49m\u001b[39mNone\u001b[39;49;00m,nrw\u001b[39m=\u001b[39;49m\u001b[39mTrue\u001b[39;49;00m,\\\n\u001b[1;32m     15\u001b[0m         bulk_density\u001b[39m=\u001b[39;49mdensity,temperature\u001b[39m=\u001b[39;49m\u001b[39mNone\u001b[39;49;00m,corr\u001b[39m=\u001b[39;49m\u001b[39mFalse\u001b[39;49;00m,solid_dielec\u001b[39m=\u001b[39;49m\u001b[39mNone\u001b[39;49;00m,solid_losstan\u001b[39m=\u001b[39;49m\u001b[39mNone\u001b[39;49;00m,particle_diameter\u001b[39m=\u001b[39;49m\u001b[39mNone\u001b[39;49;00m,\\\n\u001b[1;32m     16\u001b[0m         particle_density\u001b[39m=\u001b[39;49m\u001b[39mNone\u001b[39;49;00m,normalize_density\u001b[39m=\u001b[39;49m\u001b[39mFalse\u001b[39;49;00m,norm_eqn\u001b[39m=\u001b[39;49m\u001b[39m'\u001b[39;49m\u001b[39mLI\u001b[39;49m\u001b[39m'\u001b[39;49m,shorted\u001b[39m=\u001b[39;49m\u001b[39mFalse\u001b[39;49;00m,freq_cutoff\u001b[39m=\u001b[39;49m\u001b[39m100000000.0\u001b[39;49m)\n\u001b[1;32m     18\u001b[0m     \u001b[39mreturn\u001b[39;00m s\n",
      "File \u001b[0;32m~/pyvenv/py311/lib/python3.11/site-packages/permittivitycalc-0.6.1-py3.11.egg/permittivitycalc/sparam_data.py:315\u001b[0m, in \u001b[0;36mAirlineData.__init__\u001b[0;34m(self, L, airline, dataArray, file, name, date, freq_cutoff, nrw, shorted, corr, normalize_density, norm_eqn, bulk_density, solid_dielec, solid_losstan, particle_diameter, particle_density, temperature, typeA_unc)\u001b[0m\n\u001b[1;32m    310\u001b[0m \u001b[39mself\u001b[39m\u001b[39m.\u001b[39mres_freq \u001b[39m=\u001b[39m \u001b[39mself\u001b[39m\u001b[39m.\u001b[39m_resonant_freq()\n\u001b[1;32m    312\u001b[0m \u001b[39m# Calculate an average real permittivity and loss tan value from \u001b[39;00m\n\u001b[1;32m    313\u001b[0m \u001b[39m#   midpoint frequency values between resonant frequencies.\u001b[39;00m\n\u001b[1;32m    314\u001b[0m \u001b[39mself\u001b[39m\u001b[39m.\u001b[39mfreq_avg_dielec, \u001b[39mself\u001b[39m\u001b[39m.\u001b[39mfreq_avg_losstan, \u001b[39mself\u001b[39m\u001b[39m.\u001b[39mfreq_avg_dielec_std, \\\n\u001b[0;32m--> 315\u001b[0m     \u001b[39mself\u001b[39m\u001b[39m.\u001b[39mfreq_avg_losstan_std \u001b[39m=\u001b[39m \u001b[39mself\u001b[39;49m\u001b[39m.\u001b[39;49m_freq_avg()\n\u001b[1;32m    317\u001b[0m \u001b[39m# If normalize_density is not False and bulk_density exists, normalize\u001b[39;00m\n\u001b[1;32m    318\u001b[0m \u001b[39mif\u001b[39;00m \u001b[39mself\u001b[39m\u001b[39m.\u001b[39mnormalize_density \u001b[39mand\u001b[39;00m \u001b[39mself\u001b[39m\u001b[39m.\u001b[39mbulk_density:\n",
      "File \u001b[0;32m~/pyvenv/py311/lib/python3.11/site-packages/permittivitycalc-0.6.1-py3.11.egg/permittivitycalc/sparam_data.py:577\u001b[0m, in \u001b[0;36mAirlineData._freq_avg\u001b[0;34m(self)\u001b[0m\n\u001b[1;32m    575\u001b[0m     dielec \u001b[39m=\u001b[39m \u001b[39mself\u001b[39m\u001b[39m.\u001b[39mavg_dielec\n\u001b[1;32m    576\u001b[0m     lossfac \u001b[39m=\u001b[39m \u001b[39mself\u001b[39m\u001b[39m.\u001b[39mavg_lossfac\n\u001b[0;32m--> 577\u001b[0m mid_pts  \u001b[39m=\u001b[39m np\u001b[39m.\u001b[39;49mzeros(\u001b[39mlen\u001b[39;49m(f_r)\u001b[39m-\u001b[39;49m\u001b[39m1\u001b[39;49m)\u001b[39m#, dtype=int)\u001b[39;00m\n\u001b[1;32m    578\u001b[0m f_0_mids \u001b[39m=\u001b[39m np\u001b[39m.\u001b[39mzeros(\u001b[39mlen\u001b[39m(f_r)\u001b[39m-\u001b[39m\u001b[39m1\u001b[39m)\u001b[39m#, dtype=int)\u001b[39;00m\n\u001b[1;32m    579\u001b[0m dielec_mids \u001b[39m=\u001b[39m []\n",
      "\u001b[0;31mValueError\u001b[0m: negative dimensions are not allowed"
     ]
    }
   ],
   "source": [
    "import argparse as parse\n",
    "import numpy as np\n",
    "import plotly.graph_objects as go\n",
    "import os\n",
    "\n",
    "import permittivitycalc as pc\n",
    "import src.plot_layout as plot_layout\n",
    "import src.agent as agent\n",
    "import src.pre as pre\n",
    "import scipy.signal as signal\n",
    "import datetime\n",
    "time=datetime.datetime.now().strftime('%Y-%m-%d')\n",
    "file_dir = 'experiments/2023-4-23'\n",
    "output_dir = f'result/2023-4-23-{time}'\n",
    "\n",
    "os.system('mkdir -p '+output_dir)\n",
    "\n",
    "for root,dirs,files in os.walk(file_dir):\n",
    "    for file in files:\n",
    "        if file[-3:]=='csv':\n",
    "            in_file= root+'/'+file\n",
    "            print(in_file)\n",
    "            data = pre.parser_csv(in_file)\n",
    "            \n",
    "            _l = 2.1\n",
    "            _airline = 'VAL'\n",
    "            airline = agent.get_airline(data,in_file,L=_l,airline=_airline,density=2.1)\n",
    "            # _out_dir = f'{output_dir}/{file[:-4]}'\n",
    "            # os.system('mkdir -p '+output_dir+'/'+file[:-4])\n",
    "            # x_ = net.f/1e9\n",
    "            # fig = agent.draw_common(y=[net.s_db[:,0,0],net.s_db[:,0,1],net.s_db[:,1,0],net.s_db[:,1,1]],x=[x_,x_,x_,x_],name_list=['S11','S12','S21','S22'],x_title='Frequency(GHz)',y_title='S11(db)')\n",
    "            # fig.write_image(f'{_out_dir}/S.png')\n",
    "                        \n",
    "\n",
    "\n"
   ]
  },
  {
   "cell_type": "code",
   "execution_count": 1,
   "metadata": {},
   "outputs": [],
   "source": [
    "import pandas as pd\n",
    "import numpy as np  \n",
    "import skrf as rf\n",
    "\n",
    "\n",
    "def parser_csv(in_csv):\n",
    "    r'''\n",
    "    当文件问csv格式时，读取文件\n",
    "    输入必须为 hz mag deg 格式\n",
    "    '''\n",
    "    f= open(in_csv,'r')\n",
    "    table = []\n",
    "    for id, line in enumerate(f):\n",
    "        if id == 2:\n",
    "            head = line.strip().split(' ')\n",
    "        if id < 3:\n",
    "            continue\n",
    "        else:\n",
    "            table.append(line.strip().split(' '))\n",
    "    f.close()\n",
    "    res = np.array([[float(row[j]) if head[j].find('db')==-1 else rf.db_2_mag(float(row[j])) for j in range(len(row))] for row in table],dtype=np.float32)\n",
    "    return res\n",
    "\n",
    "\n",
    "file = 'experiments/2023-4-23/data/C8.csv'\n",
    "data = parser_csv(file)\n"
   ]
  },
  {
   "cell_type": "code",
   "execution_count": 18,
   "metadata": {},
   "outputs": [
    {
     "name": "stderr",
     "output_type": "stream",
     "text": [
      "/var/folders/w6/z1n982410fzbytsyxs14lgrr0000gn/T/ipykernel_29880/1641721316.py:2: DeprecationWarning: frequency.f parameter will be immutable in the next release.\n",
      "  net.f = data[:,0]\n"
     ]
    },
    {
     "ename": "AttributeError",
     "evalue": "",
     "output_type": "error",
     "traceback": [
      "\u001b[0;31m---------------------------------------------------------------------------\u001b[0m",
      "\u001b[0;31mTypeError\u001b[0m                                 Traceback (most recent call last)",
      "File \u001b[0;32m~/pyvenv/py311/lib/python3.11/site-packages/skrf/network.py:451\u001b[0m, in \u001b[0;36mNetwork.__init__\u001b[0;34m(self, file, name, params, comments, f_unit, s_def, **kwargs)\u001b[0m\n\u001b[1;32m    450\u001b[0m \u001b[39mtry\u001b[39;00m:\n\u001b[0;32m--> 451\u001b[0m     \u001b[39mself\u001b[39;49m\u001b[39m.\u001b[39;49mread(fid)\n\u001b[1;32m    452\u001b[0m \u001b[39mexcept\u001b[39;00m \u001b[39mUnicodeDecodeError\u001b[39;00m:  \u001b[39m# Support for pickles created in Python2 and loaded in Python3\u001b[39;00m\n",
      "File \u001b[0;32m~/pyvenv/py311/lib/python3.11/site-packages/skrf/network.py:2506\u001b[0m, in \u001b[0;36mNetwork.read\u001b[0;34m(self, *args, **kwargs)\u001b[0m\n\u001b[1;32m   2505\u001b[0m \u001b[39mfrom\u001b[39;00m \u001b[39m.\u001b[39;00m\u001b[39mio\u001b[39;00m\u001b[39m.\u001b[39;00m\u001b[39mgeneral\u001b[39;00m \u001b[39mimport\u001b[39;00m read\n\u001b[0;32m-> 2506\u001b[0m \u001b[39mself\u001b[39m\u001b[39m.\u001b[39mcopy_from(read(\u001b[39m*\u001b[39;49margs, \u001b[39m*\u001b[39;49m\u001b[39m*\u001b[39;49mkwargs))\n",
      "File \u001b[0;32m~/pyvenv/py311/lib/python3.11/site-packages/skrf/io/general.py:140\u001b[0m, in \u001b[0;36mread\u001b[0;34m(file, *args, **kwargs)\u001b[0m\n\u001b[1;32m    139\u001b[0m \u001b[39mtry\u001b[39;00m:\n\u001b[0;32m--> 140\u001b[0m     obj \u001b[39m=\u001b[39m pickle\u001b[39m.\u001b[39;49mload(fid, \u001b[39m*\u001b[39;49margs, \u001b[39m*\u001b[39;49m\u001b[39m*\u001b[39;49mkwargs)\n\u001b[1;32m    141\u001b[0m \u001b[39mexcept\u001b[39;00m (UnpicklingError, \u001b[39mUnicodeDecodeError\u001b[39;00m) \u001b[39mas\u001b[39;00m e:\n\u001b[1;32m    142\u001b[0m     \u001b[39m# if fid is seekable then reset to beginning of file\u001b[39;00m\n",
      "\u001b[0;31mTypeError\u001b[0m: file must have 'read' and 'readline' attributes",
      "\nDuring handling of the above exception, another exception occurred:\n",
      "\u001b[0;31mAttributeError\u001b[0m                            Traceback (most recent call last)",
      "Cell \u001b[0;32mIn[18], line 9\u001b[0m\n\u001b[1;32m      6\u001b[0m net\u001b[39m.\u001b[39ms22\u001b[39m=\u001b[39mdata[:,\u001b[39m7\u001b[39m]\u001b[39m*\u001b[39mnp\u001b[39m.\u001b[39mexp(\u001b[39m1\u001b[39mj\u001b[39m*\u001b[39mdata[:,\u001b[39m8\u001b[39m]\u001b[39m*\u001b[39mnp\u001b[39m.\u001b[39mpi\u001b[39m/\u001b[39m\u001b[39m180\u001b[39m)\n\u001b[1;32m      7\u001b[0m net\u001b[39m.\u001b[39mname \u001b[39m=\u001b[39m \u001b[39m'\u001b[39m\u001b[39mC8\u001b[39m\u001b[39m'\u001b[39m\n\u001b[0;32m----> 9\u001b[0m n \u001b[39m=\u001b[39m rf\u001b[39m.\u001b[39;49mNetwork(net)\n",
      "File \u001b[0;32m~/pyvenv/py311/lib/python3.11/site-packages/skrf/network.py:458\u001b[0m, in \u001b[0;36mNetwork.__init__\u001b[0;34m(self, file, name, params, comments, f_unit, s_def, **kwargs)\u001b[0m\n\u001b[1;32m    454\u001b[0m \u001b[39mexcept\u001b[39;00m (UnpicklingError, \u001b[39mTypeError\u001b[39;00m):\n\u001b[1;32m    455\u001b[0m     \u001b[39m# if unpickling doesn't work then, close fid, reopen in\u001b[39;00m\n\u001b[1;32m    456\u001b[0m     \u001b[39m# non-binary mode and try to read it as touchstone\u001b[39;00m\n\u001b[1;32m    457\u001b[0m     filename \u001b[39m=\u001b[39m fid\u001b[39m.\u001b[39mname\n\u001b[0;32m--> 458\u001b[0m     fid\u001b[39m.\u001b[39;49mclose()\n\u001b[1;32m    459\u001b[0m     \u001b[39mself\u001b[39m\u001b[39m.\u001b[39mread_touchstone(filename, \u001b[39mself\u001b[39m\u001b[39m.\u001b[39mencoding)\n\u001b[1;32m    461\u001b[0m \u001b[39mif\u001b[39;00m \u001b[39mnot\u001b[39;00m fid\u001b[39m.\u001b[39mclosed:\n",
      "File \u001b[0;32m~/pyvenv/py311/lib/python3.11/site-packages/skrf/network.py:944\u001b[0m, in \u001b[0;36mNetwork.__getattr__\u001b[0;34m(self, name)\u001b[0m\n\u001b[1;32m    942\u001b[0m     ntwk\u001b[39m.\u001b[39mz0 \u001b[39m=\u001b[39m \u001b[39mself\u001b[39m\u001b[39m.\u001b[39mz0[:, t0]\n\u001b[1;32m    943\u001b[0m     \u001b[39mreturn\u001b[39;00m ntwk\n\u001b[0;32m--> 944\u001b[0m \u001b[39mraise\u001b[39;00m \u001b[39mAttributeError\u001b[39;00m\n",
      "\u001b[0;31mAttributeError\u001b[0m: "
     ]
    }
   ],
   "source": [
    "net = rf.Network()\n",
    "net.f = data[:,0]\n",
    "net.s11=data[:,1]*np.exp(1j*data[:,2]*np.pi/180)\n",
    "net.s21=data[:,3]*np.exp(1j*data[:,4]*np.pi/180)\n",
    "net.s12=data[:,5]*np.exp(1j*data[:,6]*np.pi/180)\n",
    "net.s22=data[:,7]*np.exp(1j*data[:,8]*np.pi/180)\n",
    "\n"
   ]
  }
 ],
 "metadata": {
  "kernelspec": {
   "display_name": "py311",
   "language": "python",
   "name": "python3"
  },
  "language_info": {
   "codemirror_mode": {
    "name": "ipython",
    "version": 3
   },
   "file_extension": ".py",
   "mimetype": "text/x-python",
   "name": "python",
   "nbconvert_exporter": "python",
   "pygments_lexer": "ipython3",
   "version": "3.11.3"
  },
  "orig_nbformat": 4
 },
 "nbformat": 4,
 "nbformat_minor": 2
}
